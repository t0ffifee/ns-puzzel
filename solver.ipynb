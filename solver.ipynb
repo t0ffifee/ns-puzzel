{
 "cells": [
  {
   "cell_type": "code",
   "execution_count": 3,
   "id": "fcbdee77-922c-4a55-9be5-5b362266f566",
   "metadata": {},
   "outputs": [],
   "source": [
    "from collections import defaultdict\n",
    "import json"
   ]
  },
  {
   "cell_type": "code",
   "execution_count": 10,
   "id": "5581c0ea-9e7f-4bdc-a4fb-40a42c3a3fed",
   "metadata": {},
   "outputs": [],
   "source": [
    "def fixnaam(naam):\n",
    "    filtered = [ch.lower() for ch in naam if ch.isalpha()]\n",
    "    filtered.sort()\n",
    "    return \"\".join(filtered)\n",
    "\n",
    "def getcounts(s):\n",
    "    charcounts = defaultdict(int)\n",
    "    for ch in s:\n",
    "        charcounts[ch] += 1\n",
    "    return charcounts\n",
    "\n",
    "def difference(xs, ys):\n",
    "    diff = 0\n",
    "    for k, xcount in xs.items():\n",
    "        ycount = ys.get(k, 0)\n",
    "        diff += abs(xcount - ycount)\n",
    "    return diff\n"
   ]
  },
  {
   "cell_type": "code",
   "execution_count": 5,
   "id": "35626b49-d82e-4ba2-9682-ed71421d3e16",
   "metadata": {},
   "outputs": [],
   "source": [
    "namemap = {}\n",
    "counts = {}\n",
    "\n",
    "# precompute\n",
    "with open(\"stations.txt\") as file:\n",
    "    for station in file:\n",
    "        naam = station.strip()\n",
    "        key = fixnaam(naam)\n",
    "        namemap[key] = naam\n",
    "        cs = getcounts(key)\n",
    "        counts[key] = cs\n",
    "\n",
    "with open(\"stationsmap.json\", \"w\") as outfile: \n",
    "    json.dump(namemap, outfile)\n",
    "\n",
    "with open(\"countsmap.json\", \"w\") as outfile:\n",
    "    json.dump(counts, outfile)"
   ]
  },
  {
   "cell_type": "code",
   "execution_count": 11,
   "id": "03bef41a",
   "metadata": {},
   "outputs": [],
   "source": [
    "def vindstation(input):\n",
    "    s = fixnaam(input)\n",
    "    \n",
    "    if s in namemap:\n",
    "        return namemap[s]\n",
    "    else:\n",
    "        xs = getcounts(s)\n",
    "        mindiff = float(\"inf\")\n",
    "        res = \"\"\n",
    "        \n",
    "        for key, station in namemap.items():\n",
    "            ys = getcounts(key)\n",
    "            diff = difference(xs, ys)\n",
    "            if diff < mindiff:\n",
    "                mindiff = diff\n",
    "                res = station\n",
    "\n",
    "        return res"
   ]
  },
  {
   "cell_type": "code",
   "execution_count": 17,
   "id": "1fb91cb9-e51f-410a-85a1-660f632455d2",
   "metadata": {},
   "outputs": [
    {
     "name": "stdout",
     "output_type": "stream",
     "text": [
      "Armbandtelier Jammers ---> Amsterdam Bijlmer ArenA \n",
      "\n",
      "Baanlicht Taureem ---> Utrecht Maliebaan \n",
      "\n",
      "Der Duit Mozart ---> Rotterdam Zuid \n",
      "\n",
      "Long Hee ---> Hengelo \n",
      "\n",
      "In den Hove ---> Eindhoven \n",
      "\n",
      "Eindbaas Schuwen ---> Bad Nieuweschans \n",
      "\n",
      "Bil Gedrumd ---> Middelburg \n",
      "\n",
      "Virtuele Rits Buiting ---> Tilburg Universiteit \n",
      "\n",
      "Boven Sluis Ruggins ---> Vlissingen Souburg \n",
      "\n",
      "Adel Bar Tramtok ---> Rotterdam Blaak \n",
      "\n",
      "Maarten Rolt de Car ---> Rotterdam Centraal \n",
      "\n",
      "Recht ut Craalent ---> Utrecht Centraal \n",
      "\n",
      "Pennie Vuwen ---> Nieuw Vennep \n",
      "\n"
     ]
    }
   ],
   "source": [
    "puzzels = [\"Armbandtelier Jammers\", \"Baanlicht Taureem\", \"Der Duit Mozart\", \"Long Hee\", \"In den Hove\", \"Eindbaas Schuwen\", \"Bil Gedrumd\", \"Virtuele Rits Buiting\", \"Boven Sluis Ruggins\", \"Adel Bar Tramtok\", \"Maarten Rolt de Car\", \"Recht ut Craalent\", \"Pennie Vuwen\"]\n",
    "\n",
    "for p in puzzels:\n",
    "    r = vindstation(p)\n",
    "    print(p, \"--->\", r, \"\\n\")"
   ]
  }
 ],
 "metadata": {
  "kernelspec": {
   "display_name": "Python 3",
   "language": "python",
   "name": "python3"
  },
  "language_info": {
   "codemirror_mode": {
    "name": "ipython",
    "version": 3
   },
   "file_extension": ".py",
   "mimetype": "text/x-python",
   "name": "python",
   "nbconvert_exporter": "python",
   "pygments_lexer": "ipython3",
   "version": "3.10.12"
  }
 },
 "nbformat": 4,
 "nbformat_minor": 5
}
